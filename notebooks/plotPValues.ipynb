{
 "cells": [
  {
   "cell_type": "code",
   "execution_count": 1,
   "id": "777bf7dc",
   "metadata": {},
   "outputs": [],
   "source": [
    "import paths ## make the import work"
   ]
  },
  {
   "cell_type": "code",
   "execution_count": 2,
   "id": "4370a9a7",
   "metadata": {},
   "outputs": [],
   "source": [
    "from plotting import plotDBDict"
   ]
  },
  {
   "cell_type": "code",
   "execution_count": 3,
   "id": "3b089e19",
   "metadata": {},
   "outputs": [],
   "source": [
    "# args = f\"-d ../220.dict  -r \"\n",
    "args = f\"-d ../db222pre1.dict -r -t electroweakinos\"\n",
    "# args = f\"-d ../222pre1.dict -r -a ATLAS-SUSY-2019-08,ATLAS-SUSY-2019-09,ATLAS-SUSY-2018-41,ATLAS-SUSY-2018-23,CMS-SUS-21-002,CMS-SUS-20-001\""
   ]
  },
  {
   "cell_type": "code",
   "execution_count": 4,
   "id": "bf6ee544",
   "metadata": {},
   "outputs": [
    {
     "name": "stdout",
     "output_type": "stream",
     "text": [
      "outfile tmp.png\n",
      "[plotDBDict] tmp.html created, can be opened with ''xdg-open tmp.html''\n",
      "[plotDBDict] tmp.png created\n"
     ]
    }
   ],
   "source": [
    "a = plotDBDict.runNotebook ( args, {\"roughness\": 6, \"weighted\": True } )"
   ]
  },
  {
   "cell_type": "code",
   "execution_count": 6,
   "id": "85e49b63",
   "metadata": {},
   "outputs": [
    {
     "data": {
      "text/html": [
       "<html>\n",
       "<body>\n",
       "\n",
       "<div id=\"xhicsejxgb\"></div>\n",
       "\n",
       "<script src=\"https://requirejs.org/docs/release/2.3.6/minified/require.js\"></script>\n",
       "<script>\n",
       "require.config({paths: {roughViz: \"https://unpkg.com/rough-viz@1.0.5/dist/roughviz.min\"}});\n",
       "require([\"roughViz\"], function(roughViz) {\n",
       "\n",
       "new roughViz.StackedBar(\n",
       "  {\n",
       "    element: \"#\".concat(\"xhicsejxgb\"),\n",
       "    data: [{'labels': '0.05', '8 TeV': 2.7777777777777777, '13 TeV, < 100/fb': 102.83298097251587, '13 TeV, > 100/fb': 39.81481481481481}, {'labels': '0.15', '8 TeV': 21.581196581196583, '13 TeV, < 100/fb': 14.302325581395369, '13 TeV, > 100/fb': 65.74074074074072}, {'labels': '0.25', '8 TeV': 29.27350427350428, '13 TeV, < 100/fb': 33.21881606765329, '13 TeV, > 100/fb': 94.44444444444441}, {'labels': '0.35', '8 TeV': 58.33333333333333, '13 TeV, < 100/fb': 50.15856236786471, '13 TeV, > 100/fb': 24.999999999999957}, {'labels': '0.45', '8 TeV': 16.666666666666607, '13 TeV, < 100/fb': 61.226215644820314, '13 TeV, > 100/fb': 56.48148148148149}, {'labels': '0.55', '8 TeV': 56.410256410256366, '13 TeV, < 100/fb': 43.60465116279073, '13 TeV, > 100/fb': 41.66666666666665}, {'labels': '0.65', '8 TeV': 65.3846153846153, '13 TeV, < 100/fb': 23.04439746300213, '13 TeV, > 100/fb': 62.037037037037024}, {'labels': '0.75', '8 TeV': 20.940170940170955, '13 TeV, < 100/fb': 57.32558139534882, '13 TeV, > 100/fb': 42.5925925925926}, {'labels': '0.85', '8 TeV': 20.940170940170955, '13 TeV, < 100/fb': 35.158562367864654, '13 TeV, > 100/fb': 10.18518518518512}, {'labels': '0.95', '8 TeV': 7.692307692307709, '13 TeV, < 100/fb': 24.127906976744207, '13 TeV, > 100/fb': 4.629629629629584}],\n",
       "    labels: \"labels\",\n",
       "\taxisFontSize: 16,\n",
       "\taxisRoughness: 0.5,\n",
       "\taxisStrokeWidth: 0.5,\n",
       "\tbowing: 0,\n",
       "\tcolor: \"skyblue\",\n",
       "\tfillStyle: \"cross-hatch\",\n",
       "\tfillWeight: 0,\n",
       "\tfont: 0,\n",
       "\thighlight: \"green\",\n",
       "\tinnerStrokeWidth: 0,\n",
       "\tlabelFontSize: 16,\n",
       "\tpadding: 0.1,\n",
       "\troughness: 6,\n",
       "\tsimplification: 0.2,\n",
       "\tstroke: \"black\",\n",
       "\tstrokeWidth: 1,\n",
       "\ttitle: \"SModelS database v2.2.2.pre1, ewkinos + onshell gauge bosons, all analyses\",\n",
       "\ttitleFontSize: 18,\n",
       "\ttooltipFontSize: \"3rem\",\n",
       "\txLabel: \"p-values\",\n",
       "\tyLabel: \"# analyses (weighted, x 100)\",\n",
       "\theight: 400,\n",
       "\twidth: 700,\n",
       "\tinteractive: false\n",
       "  }\n",
       ");\n",
       "\tvar text = document.querySelectorAll(\".xAxisxhicsejxgb .tick text\");\n",
       "\tvar i;\n",
       "\tfor (i = 0; i < text.length; i++) {\n",
       "\t\ttext[i].setAttribute(\"transform\", \"rotate(0)\");\n",
       "\t\ttext[i].style.textAnchor=\"middle\";\n",
       "\t}\n",
       "\tdocument.getElementById(\"xhicsejxgb\").style.height = \"380px\";\n",
       "\tdocument.querySelector(\"#xhicsejxgb svg\").style.height = \"380px\";\n",
       "});\n",
       "</script>\n",
       "\n",
       "</body>\n",
       "</html>"
      ],
      "text/plain": [
       "<IPython.core.display.HTML object>"
      ]
     },
     "metadata": {},
     "output_type": "display_data"
    },
    {
     "data": {
      "text/html": [
       "\n",
       "            <style>\n",
       "            div.output_area img, div.output_area svg{\n",
       "            height: 100%!important;\n",
       "            }\n",
       "            </style>\n",
       "            <script>\n",
       "                var e = document.getElementById('xhicsejxgb');\n",
       "                var divCheckingInterval = setInterval(function(){\n",
       "                if(e.getElementsByTagName('svg').length){\n",
       "                    clearInterval(divCheckingInterval);\n",
       "                    e.getElementsByTagName('svg')[0].setAttribute(\"id\", 'svgxhicsejxgb');\n",
       "                    var svgElement = document.getElementById('svgxhicsejxgb');\n",
       "                    var svgString = new XMLSerializer().serializeToString(svgElement);\n",
       "                    var decoded = unescape(encodeURIComponent(svgString));\n",
       "                    var base64 = btoa(decoded);\n",
       "                    var imgSource = `data:image/svg+xml;base64,${base64}`;\n",
       "                    e.innerHTML = \"<img id='svgplot'>\";\n",
       "                    document.getElementById('svgplot').src = imgSource;       \n",
       "                }}, 1);\n",
       "            </script>\n",
       "            "
      ],
      "text/plain": [
       "<IPython.core.display.HTML object>"
      ]
     },
     "metadata": {},
     "output_type": "display_data"
    }
   ],
   "source": [
    "a.display()"
   ]
  }
 ],
 "metadata": {
  "kernelspec": {
   "display_name": "Python 3 (ipykernel)",
   "language": "python",
   "name": "python3"
  },
  "language_info": {
   "codemirror_mode": {
    "name": "ipython",
    "version": 3
   },
   "file_extension": ".py",
   "mimetype": "text/x-python",
   "name": "python",
   "nbconvert_exporter": "python",
   "pygments_lexer": "ipython3",
   "version": "3.10.7"
  }
 },
 "nbformat": 4,
 "nbformat_minor": 5
}
