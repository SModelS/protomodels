{
 "cells": [
  {
   "cell_type": "code",
   "execution_count": 2,
   "id": "777bf7dc",
   "metadata": {},
   "outputs": [],
   "source": [
    "import sys; sys.path.insert(0,\"../\")"
   ]
  },
  {
   "cell_type": "code",
   "execution_count": 3,
   "id": "4370a9a7",
   "metadata": {},
   "outputs": [],
   "source": [
    "from plotting import plotDBDict"
   ]
  },
  {
   "cell_type": "code",
   "execution_count": 4,
   "id": "3b089e19",
   "metadata": {},
   "outputs": [],
   "source": [
    "args = \"\" # args = \"-t electroweakinos\""
   ]
  },
  {
   "cell_type": "code",
   "execution_count": 6,
   "id": "bf6ee544",
   "metadata": {},
   "outputs": [
    {
     "data": {
      "text/html": [
       "<html>\n",
       "<body>\n",
       "\n",
       "<div id=\"fqjogcoqar\"></div>\n",
       "\n",
       "<script src=\"https://requirejs.org/docs/release/2.3.6/minified/require.js\"></script>\n",
       "<script>\n",
       "require.config({paths: {roughViz: \"https://unpkg.com/rough-viz@1.0.5/dist/roughviz.min\"}});\n",
       "require([\"roughViz\"], function(roughViz) {\n",
       "\n",
       "new roughViz.StackedBar(\n",
       "  {\n",
       "    element: \"#\".concat(\"fqjogcoqar\"),\n",
       "    data: [{'labels': '0.05', '8 TeV': 6.0, '13 TeV, < 100/fb': 31.0, '13 TeV, > 100/fb': 20.0}, {'labels': '0.15', '8 TeV': 27.0, '13 TeV, < 100/fb': 32.0, '13 TeV, > 100/fb': 30.0}, {'labels': '0.25', '8 TeV': 26.0, '13 TeV, < 100/fb': 36.0, '13 TeV, > 100/fb': 33.0}, {'labels': '0.35', '8 TeV': 29.0, '13 TeV, < 100/fb': 39.0, '13 TeV, > 100/fb': 48.0}, {'labels': '0.45', '8 TeV': 32.0, '13 TeV, < 100/fb': 38.0, '13 TeV, > 100/fb': 47.0}, {'labels': '0.55', '8 TeV': 31.0, '13 TeV, < 100/fb': 51.0, '13 TeV, > 100/fb': 64.0}, {'labels': '0.65', '8 TeV': 39.0, '13 TeV, < 100/fb': 23.0, '13 TeV, > 100/fb': 52.0}, {'labels': '0.75', '8 TeV': 19.0, '13 TeV, < 100/fb': 27.0, '13 TeV, > 100/fb': 53.0}, {'labels': '0.85', '8 TeV': 22.0, '13 TeV, < 100/fb': 37.0, '13 TeV, > 100/fb': 46.0}, {'labels': '0.95', '8 TeV': 12.0, '13 TeV, < 100/fb': 18.0, '13 TeV, > 100/fb': 21.0}],\n",
       "    labels: \"labels\",\n",
       "\taxisFontSize: 16,\n",
       "\taxisRoughness: 0.5,\n",
       "\taxisStrokeWidth: 0.5,\n",
       "\tbowing: 0,\n",
       "\tcolor: \"skyblue\",\n",
       "\tfillStyle: \"cross-hatch\",\n",
       "\tfillWeight: 0,\n",
       "\tfont: 0,\n",
       "\thighlight: \"green\",\n",
       "\tinnerStrokeWidth: 0,\n",
       "\tlabelFontSize: 16,\n",
       "\tpadding: 0.1,\n",
       "\troughness: 4,\n",
       "\tsimplification: 0.2,\n",
       "\tstroke: \"black\",\n",
       "\tstrokeWidth: 1,\n",
       "\ttitle: \"SModelS database v2.2.0, all topologies, all analyses\",\n",
       "\ttitleFontSize: 18,\n",
       "\ttooltipFontSize: \"3rem\",\n",
       "\txLabel: \"p-values\",\n",
       "\tyLabel: \"# SRs\",\n",
       "\theight: 400,\n",
       "\twidth: 700,\n",
       "\tinteractive: true\n",
       "  }\n",
       ");\n",
       "\tvar text = document.querySelectorAll(\".xAxisfqjogcoqar .tick text\");\n",
       "\tvar i;\n",
       "\tfor (i = 0; i < text.length; i++) {\n",
       "\t\ttext[i].setAttribute(\"transform\", \"rotate(0)\");\n",
       "\t\ttext[i].style.textAnchor=\"middle\";\n",
       "\t}\n",
       "\tdocument.getElementById(\"fqjogcoqar\").style.height = \"380px\";\n",
       "\tdocument.querySelector(\"#fqjogcoqar svg\").style.height = \"380px\";\n",
       "});\n",
       "</script>\n",
       "\n",
       "</body>\n",
       "</html>"
      ],
      "text/plain": [
       "<IPython.core.display.HTML object>"
      ]
     },
     "metadata": {},
     "output_type": "display_data"
    },
    {
     "data": {
      "text/html": [
       "\n",
       "        <style>\n",
       "        div.output_area img, div.output_area svg{\n",
       "        height: 100%!important;\n",
       "        }\n",
       "        </style>\n",
       "        <script>\n",
       "            var e = document.getElementById('fqjogcoqar');\n",
       "            var divCheckingInterval = setInterval(function(){\n",
       "            if(e.getElementsByTagName('svg').length){\n",
       "                clearInterval(divCheckingInterval);\n",
       "                e.getElementsByTagName('svg')[0].setAttribute(\"id\", 'svgfqjogcoqar');\n",
       "                var svgElement = document.getElementById('svgfqjogcoqar');\n",
       "                var svgString = new XMLSerializer().serializeToString(svgElement);\n",
       "                var decoded = unescape(encodeURIComponent(svgString));\n",
       "                var base64 = btoa(decoded);\n",
       "                var imgSource = `data:image/svg+xml;base64,${base64}`;\n",
       "                e.innerHTML = \"<img id='svgplot'>\";\n",
       "                document.getElementById('svgplot').src = imgSource;       \n",
       "            }}, 1);\n",
       "        </script>\n",
       "        "
      ],
      "text/plain": [
       "<IPython.core.display.HTML object>"
      ]
     },
     "metadata": {},
     "output_type": "display_data"
    }
   ],
   "source": [
    "output, debug = plotDBDict.runNotebook ( f\"-d ../220.dict  -r {args}\" )"
   ]
  },
  {
   "cell_type": "code",
   "execution_count": null,
   "id": "c0d49ce3",
   "metadata": {},
   "outputs": [],
   "source": []
  }
 ],
 "metadata": {
  "kernelspec": {
   "display_name": "Python 3 (ipykernel)",
   "language": "python",
   "name": "python3"
  },
  "language_info": {
   "codemirror_mode": {
    "name": "ipython",
    "version": 3
   },
   "file_extension": ".py",
   "mimetype": "text/x-python",
   "name": "python",
   "nbconvert_exporter": "python",
   "pygments_lexer": "ipython3",
   "version": "3.10.7"
  }
 },
 "nbformat": 4,
 "nbformat_minor": 5
}
