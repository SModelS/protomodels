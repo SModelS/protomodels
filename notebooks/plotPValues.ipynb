{
 "cells": [
  {
   "cell_type": "code",
   "execution_count": 1,
   "id": "777bf7dc",
   "metadata": {},
   "outputs": [],
   "source": [
    "import paths ## make the import work"
   ]
  },
  {
   "cell_type": "code",
   "execution_count": 2,
   "id": "4370a9a7",
   "metadata": {},
   "outputs": [],
   "source": [
    "from plotting import plotDBDict"
   ]
  },
  {
   "cell_type": "code",
   "execution_count": 7,
   "id": "3b089e19",
   "metadata": {},
   "outputs": [],
   "source": [
    "args = f\"-d ../220fudge07.dict  -r -t electroweakinos\"\n",
    "# args = f\"-d ../222pre1.dict  -r -t electroweakinos\"\n",
    "# args = f\"-d ../222pre1.dict -r -a ATLAS-SUSY-2019-08,ATLAS-SUSY-2019-09,ATLAS-SUSY-2018-41,ATLAS-SUSY-2018-23,CMS-SUS-21-002,CMS-SUS-20-001\""
   ]
  },
  {
   "cell_type": "code",
   "execution_count": 8,
   "id": "bf6ee544",
   "metadata": {},
   "outputs": [
    {
     "data": {
      "text/html": [
       "<html>\n",
       "<body>\n",
       "\n",
       "<div id=\"qqyzyeapyk\"></div>\n",
       "\n",
       "<script src=\"https://requirejs.org/docs/release/2.3.6/minified/require.js\"></script>\n",
       "<script>\n",
       "require.config({paths: {roughViz: \"https://unpkg.com/rough-viz@1.0.5/dist/roughviz.min\"}});\n",
       "require([\"roughViz\"], function(roughViz) {\n",
       "\n",
       "new roughViz.StackedBar(\n",
       "  {\n",
       "    element: \"#\".concat(\"qqyzyeapyk\"),\n",
       "    data: [{'labels': '0.05', '8 TeV': 8.333333333333332, '13 TeV, < 100/fb': 86.36363636363637, '13 TeV, > 100/fb': 35.29411764705882}, {'labels': '0.15', '8 TeV': 27.136752136752147, '13 TeV, < 100/fb': 9.090909090909093, '13 TeV, > 100/fb': 63.07189542483661}, {'labels': '0.25', '8 TeV': 20.940170940170944, '13 TeV, < 100/fb': 39.77272727272724, '13 TeV, > 100/fb': 78.10457516339868}, {'labels': '0.35', '8 TeV': 16.666666666666675, '13 TeV, < 100/fb': 9.090909090909083, '13 TeV, > 100/fb': 3.9215686274509665}, {'labels': '0.45', '8 TeV': 5.555555555555558, '13 TeV, < 100/fb': 27.27272727272725, '13 TeV, > 100/fb': 1.9607843137254832}, {'labels': '0.55', '8 TeV': 31.410256410256377, '13 TeV, < 100/fb': 9.090909090909083, '13 TeV, > 100/fb': 72.54901960784315}, {'labels': '0.65', '8 TeV': 32.05128205128198, '13 TeV, < 100/fb': 9.090909090909083, '13 TeV, > 100/fb': 43.137254901960766}, {'labels': '0.75', '8 TeV': 29.273504273504216, '13 TeV, < 100/fb': 43.181818181818166, '13 TeV, > 100/fb': 37.254901960784316}, {'labels': '0.85', '8 TeV': 10.470085470085454, '13 TeV, < 100/fb': 27.27272727272725, '13 TeV, > 100/fb': 1.9607843137254832}, {'labels': '0.95', '8 TeV': 18.162393162393144, '13 TeV, < 100/fb': 21.590909090909083, '13 TeV, > 100/fb': 1.9607843137254832}],\n",
       "    labels: \"labels\",\n",
       "\taxisFontSize: 16,\n",
       "\taxisRoughness: 0.5,\n",
       "\taxisStrokeWidth: 0.5,\n",
       "\tbowing: 0,\n",
       "\tcolor: \"skyblue\",\n",
       "\tfillStyle: \"cross-hatch\",\n",
       "\tfillWeight: 0,\n",
       "\tfont: 0,\n",
       "\thighlight: \"green\",\n",
       "\tinnerStrokeWidth: 0,\n",
       "\tlabelFontSize: 16,\n",
       "\tpadding: 0.1,\n",
       "\troughness: 6,\n",
       "\tsimplification: 0.2,\n",
       "\tstroke: \"black\",\n",
       "\tstrokeWidth: 1,\n",
       "\ttitle: \"SModelS database v2.2.0, fudge=0.70, ewkinos + onshell gauge bosons, all analyses\",\n",
       "\ttitleFontSize: 18,\n",
       "\ttooltipFontSize: \"3rem\",\n",
       "\txLabel: \"p-values\",\n",
       "\tyLabel: \"# analyses (weighted, x 100)\",\n",
       "\theight: 400,\n",
       "\twidth: 700,\n",
       "\tinteractive: true\n",
       "  }\n",
       ");\n",
       "\tvar text = document.querySelectorAll(\".xAxisqqyzyeapyk .tick text\");\n",
       "\tvar i;\n",
       "\tfor (i = 0; i < text.length; i++) {\n",
       "\t\ttext[i].setAttribute(\"transform\", \"rotate(0)\");\n",
       "\t\ttext[i].style.textAnchor=\"middle\";\n",
       "\t}\n",
       "\tdocument.getElementById(\"qqyzyeapyk\").style.height = \"380px\";\n",
       "\tdocument.querySelector(\"#qqyzyeapyk svg\").style.height = \"380px\";\n",
       "});\n",
       "</script>\n",
       "\n",
       "</body>\n",
       "</html>"
      ],
      "text/plain": [
       "<IPython.core.display.HTML object>"
      ]
     },
     "metadata": {},
     "output_type": "display_data"
    }
   ],
   "source": [
    "output, debug = plotDBDict.runNotebook ( args, {\"roughness\": 6, \"weighted\": True } )"
   ]
  },
  {
   "cell_type": "code",
   "execution_count": null,
   "id": "85e49b63",
   "metadata": {},
   "outputs": [],
   "source": []
  }
 ],
 "metadata": {
  "kernelspec": {
   "display_name": "Python 3 (ipykernel)",
   "language": "python",
   "name": "python3"
  },
  "language_info": {
   "codemirror_mode": {
    "name": "ipython",
    "version": 3
   },
   "file_extension": ".py",
   "mimetype": "text/x-python",
   "name": "python",
   "nbconvert_exporter": "python",
   "pygments_lexer": "ipython3",
   "version": "3.10.7"
  }
 },
 "nbformat": 4,
 "nbformat_minor": 5
}
