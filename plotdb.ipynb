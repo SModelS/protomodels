{
 "cells": [
  {
   "cell_type": "code",
   "execution_count": 1,
   "id": "11d5acab",
   "metadata": {},
   "outputs": [],
   "source": [
    "cmd=\"-d ./db222pre1.dict  -r\""
   ]
  },
  {
   "cell_type": "code",
   "execution_count": 2,
   "id": "5cfcb4e0",
   "metadata": {},
   "outputs": [],
   "source": [
    "from plotting import plotDBDict"
   ]
  },
  {
   "cell_type": "code",
   "execution_count": 3,
   "id": "1a4c635d",
   "metadata": {},
   "outputs": [
    {
     "data": {
      "text/html": [
       "<html>\n",
       "<body>\n",
       "\n",
       "<div id=\"ivilsskksf\"></div>\n",
       "\n",
       "<script src=\"https://requirejs.org/docs/release/2.3.6/minified/require.js\"></script>\n",
       "<script>\n",
       "require.config({paths: {roughViz: \"https://unpkg.com/rough-viz@1.0.5/dist/roughviz.min\"}});\n",
       "require([\"roughViz\"], function(roughViz) {\n",
       "\n",
       "new roughViz.StackedBar(\n",
       "  {\n",
       "    element: \"#\".concat(\"ivilsskksf\"),\n",
       "    data: [{'labels': '0.0', 'p8': 7.0, 'p13lt': 31.0, 'p13gt': 19.0}, {'labels': '0.1', 'p8': 26.0, 'p13lt': 32.0, 'p13gt': 31.0}, {'labels': '0.2', 'p8': 27.0, 'p13lt': 36.0, 'p13gt': 34.0}, {'labels': '0.3', 'p8': 28.0, 'p13lt': 38.0, 'p13gt': 47.0}, {'labels': '0.4', 'p8': 31.0, 'p13lt': 39.0, 'p13gt': 44.0}, {'labels': '0.5', 'p8': 32.0, 'p13lt': 51.0, 'p13gt': 65.0}, {'labels': '0.6', 'p8': 38.0, 'p13lt': 23.0, 'p13gt': 53.0}, {'labels': '0.7', 'p8': 20.0, 'p13lt': 27.0, 'p13gt': 53.0}, {'labels': '0.8', 'p8': 23.0, 'p13lt': 37.0, 'p13gt': 47.0}, {'labels': '0.9', 'p8': 11.0, 'p13lt': 18.0, 'p13gt': 21.0}],\n",
       "    labels: \"labels\",\n",
       "\taxisFontSize: \"1.5rem\",\n",
       "\taxisRoughness: 0.5,\n",
       "\taxisStrokeWidth: 0.5,\n",
       "\tbowing: 0,\n",
       "\tcolor: \"skyblue\",\n",
       "\tfillStyle: \"cross-hatch\",\n",
       "\tfillWeight: 0,\n",
       "\tfont: 0,\n",
       "\thighlight: \"green\",\n",
       "\tinnerStrokeWidth: 0,\n",
       "\tlabelFontSize: \"2rem\",\n",
       "\tpadding: 0.1,\n",
       "\troughness: 4,\n",
       "\tsimplification: 0.2,\n",
       "\tstroke: \"black\",\n",
       "\tstrokeWidth: 1,\n",
       "\ttitle: \"SModelS database v2.2.2.pre1, all topologies, all analyses\",\n",
       "\ttitleFontSize: \"3rem\",\n",
       "\ttooltipFontSize: \"3rem\",\n",
       "\txLabel: \"\",\n",
       "\tyLabel: \"\",\n",
       "\theight: 400,\n",
       "\twidth: 700,\n",
       "\tinteractive: true\n",
       "  }\n",
       ");\n",
       "\tvar text = document.querySelectorAll(\".xAxisivilsskksf .tick text\");\n",
       "\tvar i;\n",
       "\tfor (i = 0; i < text.length; i++) {\n",
       "\t\ttext[i].setAttribute(\"transform\", \"rotate(0)\");\n",
       "\t\ttext[i].style.textAnchor=\"middle\";\n",
       "\t}\n",
       "\tdocument.getElementById(\"ivilsskksf\").style.height = \"380px\";\n",
       "\tdocument.querySelector(\"#ivilsskksf svg\").style.height = \"380px\";\n",
       "});\n",
       "</script>\n",
       "\n",
       "</body>\n",
       "</html>"
      ],
      "text/plain": [
       "<IPython.core.display.HTML object>"
      ]
     },
     "metadata": {},
     "output_type": "display_data"
    }
   ],
   "source": [
    "output, debug = plotDBDict.runNotebook ( cmd )"
   ]
  },
  {
   "cell_type": "code",
   "execution_count": 4,
   "id": "66680d0e",
   "metadata": {},
   "outputs": [
    {
     "ename": "AttributeError",
     "evalue": "'NoneType' object has no attribute 'show'",
     "output_type": "error",
     "traceback": [
      "\u001b[0;31m---------------------------------------------------------------------------\u001b[0m",
      "\u001b[0;31mAttributeError\u001b[0m                            Traceback (most recent call last)",
      "Cell \u001b[0;32mIn [4], line 1\u001b[0m\n\u001b[0;32m----> 1\u001b[0m \u001b[43moutput\u001b[49m\u001b[38;5;241;43m.\u001b[39;49m\u001b[43mshow\u001b[49m()\n",
      "\u001b[0;31mAttributeError\u001b[0m: 'NoneType' object has no attribute 'show'"
     ]
    }
   ],
   "source": [
    "output.show()"
   ]
  },
  {
   "cell_type": "code",
   "execution_count": null,
   "id": "fac83590",
   "metadata": {},
   "outputs": [],
   "source": [
    "output[0].show()"
   ]
  },
  {
   "cell_type": "code",
   "execution_count": null,
   "id": "1e2aeccb",
   "metadata": {},
   "outputs": [],
   "source": [
    "output[1].show()"
   ]
  },
  {
   "cell_type": "code",
   "execution_count": null,
   "id": "d3cef90b",
   "metadata": {},
   "outputs": [],
   "source": [
    "bar = roughviz.charts.stacked_bar.StackedBar(data=[{\"x\":[0,1,2],\"values\":[3,6,9]}],labels=\"x\")"
   ]
  },
  {
   "cell_type": "code",
   "execution_count": null,
   "id": "ca1620db",
   "metadata": {},
   "outputs": [],
   "source": [
    "roughviz.charts.stacked_bar.StackedBar?"
   ]
  },
  {
   "cell_type": "code",
   "execution_count": null,
   "id": "ba3df479",
   "metadata": {},
   "outputs": [],
   "source": [
    "bar.show()"
   ]
  },
  {
   "cell_type": "code",
   "execution_count": null,
   "id": "ffc086bd",
   "metadata": {},
   "outputs": [],
   "source": [
    "import roughviz"
   ]
  },
  {
   "cell_type": "code",
   "execution_count": null,
   "id": "01624975",
   "metadata": {},
   "outputs": [],
   "source": []
  }
 ],
 "metadata": {
  "kernelspec": {
   "display_name": "Python 3 (ipykernel)",
   "language": "python",
   "name": "python3"
  },
  "language_info": {
   "codemirror_mode": {
    "name": "ipython",
    "version": 3
   },
   "file_extension": ".py",
   "mimetype": "text/x-python",
   "name": "python",
   "nbconvert_exporter": "python",
   "pygments_lexer": "ipython3",
   "version": "3.10.7"
  }
 },
 "nbformat": 4,
 "nbformat_minor": 5
}
