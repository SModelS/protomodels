{
 "cells": [
  {
   "cell_type": "code",
   "execution_count": 1,
   "id": "6b7d3fa0",
   "metadata": {},
   "outputs": [],
   "source": [
    "cmd=\"-d ./db222pre1.dict  -r\""
   ]
  },
  {
   "cell_type": "code",
   "execution_count": 2,
   "id": "4370a9a7",
   "metadata": {},
   "outputs": [],
   "source": [
    "from plotting import plotDBDict"
   ]
  },
  {
   "cell_type": "code",
   "execution_count": 3,
   "id": "bf6ee544",
   "metadata": {},
   "outputs": [
    {
     "data": {
      "text/html": [
       "<html>\n",
       "<body>\n",
       "\n",
       "<div id=\"syoymrxyan\"></div>\n",
       "\n",
       "<script src=\"https://requirejs.org/docs/release/2.3.6/minified/require.js\"></script>\n",
       "<script>\n",
       "require.config({paths: {roughViz: \"https://unpkg.com/rough-viz@1.0.5/dist/roughviz.min\"}});\n",
       "require([\"roughViz\"], function(roughViz) {\n",
       "\n",
       "new roughViz.StackedBar(\n",
       "  {\n",
       "    element: \"#\".concat(\"syoymrxyan\"),\n",
       "    data: [{'labels': '0.0', 'p8': 7.0, 'p13lt': 31.0, 'p13gt': 19.0}, {'labels': '0.1', 'p8': 26.0, 'p13lt': 32.0, 'p13gt': 31.0}, {'labels': '0.2', 'p8': 27.0, 'p13lt': 36.0, 'p13gt': 34.0}, {'labels': '0.3', 'p8': 28.0, 'p13lt': 38.0, 'p13gt': 47.0}, {'labels': '0.4', 'p8': 31.0, 'p13lt': 39.0, 'p13gt': 44.0}, {'labels': '0.5', 'p8': 32.0, 'p13lt': 51.0, 'p13gt': 65.0}, {'labels': '0.6', 'p8': 38.0, 'p13lt': 23.0, 'p13gt': 53.0}, {'labels': '0.7', 'p8': 20.0, 'p13lt': 27.0, 'p13gt': 53.0}, {'labels': '0.8', 'p8': 23.0, 'p13lt': 37.0, 'p13gt': 47.0}, {'labels': '0.9', 'p8': 11.0, 'p13lt': 18.0, 'p13gt': 21.0}],\n",
       "    labels: \"labels\",\n",
       "\taxisFontSize: \"1.5rem\",\n",
       "\taxisRoughness: 0.5,\n",
       "\taxisStrokeWidth: 0.5,\n",
       "\tbowing: 0,\n",
       "\tcolor: [\"green\", \"lightblue\", \"darkblue\"],\n",
       "\tfillStyle: \"cross-hatch\",\n",
       "\tfillWeight: 0,\n",
       "\tfont: 0,\n",
       "\thighlight: \"green\",\n",
       "\tinnerStrokeWidth: 0,\n",
       "\tlabelFontSize: \"2rem\",\n",
       "\tpadding: 0.1,\n",
       "\troughness: 4,\n",
       "\tsimplification: 0.2,\n",
       "\tstroke: \"black\",\n",
       "\tstrokeWidth: 1,\n",
       "\ttitle: \"SModelS database v2.2.2.pre1, all topologies, all analyses\",\n",
       "\ttitleFontSize: 24,\n",
       "\ttooltipFontSize: \"3rem\",\n",
       "\txLabel: \"p-values\",\n",
       "\tyLabel: \"# analyses (weighted)\",\n",
       "\theight: 400,\n",
       "\twidth: 700,\n",
       "\tinteractive: true\n",
       "  }\n",
       ");\n",
       "\tvar text = document.querySelectorAll(\".xAxissyoymrxyan .tick text\");\n",
       "\tvar i;\n",
       "\tfor (i = 0; i < text.length; i++) {\n",
       "\t\ttext[i].setAttribute(\"transform\", \"rotate(0)\");\n",
       "\t\ttext[i].style.textAnchor=\"middle\";\n",
       "\t}\n",
       "\tdocument.getElementById(\"syoymrxyan\").style.height = \"380px\";\n",
       "\tdocument.querySelector(\"#syoymrxyan svg\").style.height = \"380px\";\n",
       "});\n",
       "</script>\n",
       "\n",
       "</body>\n",
       "</html>"
      ],
      "text/plain": [
       "<IPython.core.display.HTML object>"
      ]
     },
     "metadata": {},
     "output_type": "display_data"
    }
   ],
   "source": [
    "output, debug = plotDBDict.runNotebook ( cmd )"
   ]
  }
 ],
 "metadata": {
  "kernelspec": {
   "display_name": "Python 3 (ipykernel)",
   "language": "python",
   "name": "python3"
  },
  "language_info": {
   "codemirror_mode": {
    "name": "ipython",
    "version": 3
   },
   "file_extension": ".py",
   "mimetype": "text/x-python",
   "name": "python",
   "nbconvert_exporter": "python",
   "pygments_lexer": "ipython3",
   "version": "3.10.7"
  }
 },
 "nbformat": 4,
 "nbformat_minor": 5
}
